{
 "cells": [
  {
   "cell_type": "markdown",
   "id": "52bf5d31",
   "metadata": {},
   "source": [
    "# Problem Statement 1:"
   ]
  },
  {
   "cell_type": "markdown",
   "id": "daf42645",
   "metadata": {},
   "source": [
    "### Importing Libraries"
   ]
  },
  {
   "cell_type": "code",
   "execution_count": 4,
   "id": "5f99fd75",
   "metadata": {},
   "outputs": [],
   "source": [
    "import pandas as pd\n",
    "import numpy as np\n",
    "import matplotlib.pyplot as plt\n",
    "%matplotlib inline\n",
    "import seaborn as sns"
   ]
  },
  {
   "cell_type": "markdown",
   "id": "efd32fbd",
   "metadata": {},
   "source": [
    "### Importing Dataset"
   ]
  },
  {
   "cell_type": "code",
   "execution_count": 618,
   "id": "829c1d94",
   "metadata": {},
   "outputs": [],
   "source": [
    "df = pd.read_csv('data.csv')"
   ]
  },
  {
   "cell_type": "code",
   "execution_count": 619,
   "id": "3239c114",
   "metadata": {},
   "outputs": [
    {
     "data": {
      "text/html": [
       "<div>\n",
       "<style scoped>\n",
       "    .dataframe tbody tr th:only-of-type {\n",
       "        vertical-align: middle;\n",
       "    }\n",
       "\n",
       "    .dataframe tbody tr th {\n",
       "        vertical-align: top;\n",
       "    }\n",
       "\n",
       "    .dataframe thead th {\n",
       "        text-align: right;\n",
       "    }\n",
       "</style>\n",
       "<table border=\"1\" class=\"dataframe\">\n",
       "  <thead>\n",
       "    <tr style=\"text-align: right;\">\n",
       "      <th></th>\n",
       "      <th>F</th>\n",
       "      <th>N</th>\n",
       "      <th>Prprice per square foot</th>\n",
       "    </tr>\n",
       "  </thead>\n",
       "  <tbody>\n",
       "    <tr>\n",
       "      <th>0</th>\n",
       "      <td>0.44</td>\n",
       "      <td>0.68</td>\n",
       "      <td>511.14</td>\n",
       "    </tr>\n",
       "    <tr>\n",
       "      <th>1</th>\n",
       "      <td>0.99</td>\n",
       "      <td>0.23</td>\n",
       "      <td>717.10</td>\n",
       "    </tr>\n",
       "    <tr>\n",
       "      <th>2</th>\n",
       "      <td>0.84</td>\n",
       "      <td>0.29</td>\n",
       "      <td>607.91</td>\n",
       "    </tr>\n",
       "    <tr>\n",
       "      <th>3</th>\n",
       "      <td>0.28</td>\n",
       "      <td>0.45</td>\n",
       "      <td>270.40</td>\n",
       "    </tr>\n",
       "    <tr>\n",
       "      <th>4</th>\n",
       "      <td>0.07</td>\n",
       "      <td>0.83</td>\n",
       "      <td>289.88</td>\n",
       "    </tr>\n",
       "  </tbody>\n",
       "</table>\n",
       "</div>"
      ],
      "text/plain": [
       "      F     N  Prprice per square foot\n",
       "0  0.44  0.68                   511.14\n",
       "1  0.99  0.23                   717.10\n",
       "2  0.84  0.29                   607.91\n",
       "3  0.28  0.45                   270.40\n",
       "4  0.07  0.83                   289.88"
      ]
     },
     "execution_count": 619,
     "metadata": {},
     "output_type": "execute_result"
    }
   ],
   "source": [
    "df.head()"
   ]
  },
  {
   "cell_type": "code",
   "execution_count": 620,
   "id": "4ba1558e",
   "metadata": {},
   "outputs": [
    {
     "data": {
      "text/plain": [
       "(100, 3)"
      ]
     },
     "execution_count": 620,
     "metadata": {},
     "output_type": "execute_result"
    }
   ],
   "source": [
    "df.shape"
   ]
  },
  {
   "cell_type": "code",
   "execution_count": 621,
   "id": "e5aaf62f",
   "metadata": {},
   "outputs": [
    {
     "name": "stdout",
     "output_type": "stream",
     "text": [
      "<class 'pandas.core.frame.DataFrame'>\n",
      "RangeIndex: 100 entries, 0 to 99\n",
      "Data columns (total 3 columns):\n",
      " #   Column                   Non-Null Count  Dtype  \n",
      "---  ------                   --------------  -----  \n",
      " 0   F                        100 non-null    float64\n",
      " 1   N                        100 non-null    float64\n",
      " 2   Prprice per square foot  100 non-null    float64\n",
      "dtypes: float64(3)\n",
      "memory usage: 2.5 KB\n"
     ]
    }
   ],
   "source": [
    "df.info()"
   ]
  },
  {
   "cell_type": "code",
   "execution_count": 622,
   "id": "0b25ea2a",
   "metadata": {},
   "outputs": [
    {
     "data": {
      "text/html": [
       "<div>\n",
       "<style scoped>\n",
       "    .dataframe tbody tr th:only-of-type {\n",
       "        vertical-align: middle;\n",
       "    }\n",
       "\n",
       "    .dataframe tbody tr th {\n",
       "        vertical-align: top;\n",
       "    }\n",
       "\n",
       "    .dataframe thead th {\n",
       "        text-align: right;\n",
       "    }\n",
       "</style>\n",
       "<table border=\"1\" class=\"dataframe\">\n",
       "  <thead>\n",
       "    <tr style=\"text-align: right;\">\n",
       "      <th></th>\n",
       "      <th>F</th>\n",
       "      <th>N</th>\n",
       "      <th>Prprice per square foot</th>\n",
       "    </tr>\n",
       "  </thead>\n",
       "  <tbody>\n",
       "    <tr>\n",
       "      <th>count</th>\n",
       "      <td>100.000000</td>\n",
       "      <td>100.000000</td>\n",
       "      <td>100.000000</td>\n",
       "    </tr>\n",
       "    <tr>\n",
       "      <th>mean</th>\n",
       "      <td>0.550300</td>\n",
       "      <td>0.501700</td>\n",
       "      <td>554.214600</td>\n",
       "    </tr>\n",
       "    <tr>\n",
       "      <th>std</th>\n",
       "      <td>0.293841</td>\n",
       "      <td>0.307124</td>\n",
       "      <td>347.312796</td>\n",
       "    </tr>\n",
       "    <tr>\n",
       "      <th>min</th>\n",
       "      <td>0.010000</td>\n",
       "      <td>0.000000</td>\n",
       "      <td>42.080000</td>\n",
       "    </tr>\n",
       "    <tr>\n",
       "      <th>25%</th>\n",
       "      <td>0.300000</td>\n",
       "      <td>0.230000</td>\n",
       "      <td>278.172500</td>\n",
       "    </tr>\n",
       "    <tr>\n",
       "      <th>50%</th>\n",
       "      <td>0.570000</td>\n",
       "      <td>0.485000</td>\n",
       "      <td>514.285000</td>\n",
       "    </tr>\n",
       "    <tr>\n",
       "      <th>75%</th>\n",
       "      <td>0.822500</td>\n",
       "      <td>0.760000</td>\n",
       "      <td>751.752500</td>\n",
       "    </tr>\n",
       "    <tr>\n",
       "      <th>max</th>\n",
       "      <td>1.000000</td>\n",
       "      <td>0.990000</td>\n",
       "      <td>1563.820000</td>\n",
       "    </tr>\n",
       "  </tbody>\n",
       "</table>\n",
       "</div>"
      ],
      "text/plain": [
       "                F           N  Prprice per square foot\n",
       "count  100.000000  100.000000               100.000000\n",
       "mean     0.550300    0.501700               554.214600\n",
       "std      0.293841    0.307124               347.312796\n",
       "min      0.010000    0.000000                42.080000\n",
       "25%      0.300000    0.230000               278.172500\n",
       "50%      0.570000    0.485000               514.285000\n",
       "75%      0.822500    0.760000               751.752500\n",
       "max      1.000000    0.990000              1563.820000"
      ]
     },
     "execution_count": 622,
     "metadata": {},
     "output_type": "execute_result"
    }
   ],
   "source": [
    "df.describe()"
   ]
  },
  {
   "cell_type": "code",
   "execution_count": 623,
   "id": "0caed094",
   "metadata": {},
   "outputs": [
    {
     "data": {
      "text/plain": [
       "F                          0\n",
       "N                          0\n",
       "Prprice per square foot    0\n",
       "dtype: int64"
      ]
     },
     "execution_count": 623,
     "metadata": {},
     "output_type": "execute_result"
    }
   ],
   "source": [
    "df.isnull().sum()"
   ]
  },
  {
   "cell_type": "code",
   "execution_count": 625,
   "id": "f860ee8d",
   "metadata": {},
   "outputs": [
    {
     "data": {
      "text/plain": [
       "<seaborn.axisgrid.PairGrid at 0x21cef090850>"
      ]
     },
     "execution_count": 625,
     "metadata": {},
     "output_type": "execute_result"
    },
    {
     "data": {
      "image/png": "[encoded data removed]",
      "text/plain": [
       "<Figure size 540x540 with 12 Axes>"
      ]
     },
     "metadata": {
      "needs_background": "light"
     },
     "output_type": "display_data"
    }
   ],
   "source": [
    "sns.pairplot(df)"
   ]
  },
  {
   "cell_type": "code",
   "execution_count": 626,
   "id": "77c10fb0",
   "metadata": {},
   "outputs": [],
   "source": [
    "# Independent and Dependent variables\n",
    "\n",
    "X = df.iloc[:,:-1].values\n",
    "\n",
    "y = df.iloc[:,-1].values"
   ]
  },
  {
   "cell_type": "code",
   "execution_count": 627,
   "id": "c3faf7ce",
   "metadata": {},
   "outputs": [
    {
     "data": {
      "text/plain": [
       "((100, 2), (100,))"
      ]
     },
     "execution_count": 627,
     "metadata": {},
     "output_type": "execute_result"
    }
   ],
   "source": [
    "X.shape , y.shape"
   ]
  },
  {
   "cell_type": "code",
   "execution_count": 628,
   "id": "05434872",
   "metadata": {},
   "outputs": [],
   "source": [
    "#Train and Test Data\n",
    "\n",
    "from sklearn.model_selection import train_test_split\n",
    "X_train , X_test , y_train , y_test = train_test_split(X,y,test_size=0.33,random_state=0)"
   ]
  },
  {
   "cell_type": "code",
   "execution_count": 629,
   "id": "8cf94141",
   "metadata": {},
   "outputs": [
    {
     "data": {
      "text/plain": [
       "((67, 2), (33, 2), (67,), (33,))"
      ]
     },
     "execution_count": 629,
     "metadata": {},
     "output_type": "execute_result"
    }
   ],
   "source": [
    "X_train.shape , X_test.shape , y_train.shape , y_test.shape"
   ]
  },
  {
   "cell_type": "markdown",
   "id": "5e2aa7e1",
   "metadata": {},
   "source": [
    "### Multiple Linear Regression Model Building"
   ]
  },
  {
   "cell_type": "code",
   "execution_count": 630,
   "id": "d1555912",
   "metadata": {},
   "outputs": [
    {
     "data": {
      "text/plain": [
       "LinearRegression()"
      ]
     },
     "execution_count": 630,
     "metadata": {},
     "output_type": "execute_result"
    }
   ],
   "source": [
    "from sklearn.linear_model import LinearRegression\n",
    "reg = LinearRegression()\n",
    "reg.fit(X_train,y_train)"
   ]
  },
  {
   "cell_type": "code",
   "execution_count": 631,
   "id": "de90cb51",
   "metadata": {},
   "outputs": [
    {
     "data": {
      "text/plain": [
       "array([ 422.81092199,   47.3117882 ,  673.47663105,   57.68448711,\n",
       "        653.51497592,  228.41131427,  586.76861722,  572.31598687,\n",
       "        677.55656248,  701.96695506,  754.89073698,  978.30316384,\n",
       "       1061.45374137, 1160.50910794,  523.60276016,  395.42701601,\n",
       "        992.49454662,  106.29015537,  896.38962812,  703.96467422,\n",
       "        422.44211598,  170.43180667,  275.77994073,  845.07169401,\n",
       "       1085.62595172, -247.14204568,  994.10039444,  657.07241222,\n",
       "        733.93022227,  937.96491688,  897.62666993,  814.10728639,\n",
       "        728.26750836])"
      ]
     },
     "execution_count": 631,
     "metadata": {},
     "output_type": "execute_result"
    }
   ],
   "source": [
    "y_pred = reg.predict(X_test)\n",
    "y_pred"
   ]
  },
  {
   "cell_type": "code",
   "execution_count": 632,
   "id": "e7cf9553",
   "metadata": {},
   "outputs": [
    {
     "data": {
      "text/plain": [
       "[<matplotlib.lines.Line2D at 0x21cef78d0d0>]"
      ]
     },
     "execution_count": 632,
     "metadata": {},
     "output_type": "execute_result"
    },
    {
     "data": {
      "image/png": "[encoded data removed]",
      "text/plain": [
       "<Figure size 432x288 with 1 Axes>"
      ]
     },
     "metadata": {
      "needs_background": "light"
     },
     "output_type": "display_data"
    }
   ],
   "source": [
    "plt.scatter(y_pred,y_test,color='blue')\n",
    "plt.plot(y_pred,y_test,color='red')"
   ]
  },
  {
   "cell_type": "markdown",
   "id": "a3800916",
   "metadata": {},
   "source": [
    "1 = 180.38\n",
    "\n",
    "2 = 1312.07\n",
    "\n",
    "3 = 440.13\n",
    "\n",
    "4 = 343.72"
   ]
  },
  {
   "cell_type": "code",
   "execution_count": 633,
   "id": "4f73df4d",
   "metadata": {},
   "outputs": [
    {
     "data": {
      "text/plain": [
       "array([483.02633098])"
      ]
     },
     "execution_count": 633,
     "metadata": {},
     "output_type": "execute_result"
    }
   ],
   "source": [
    "reg.predict([[0.34,0.68]])"
   ]
  },
  {
   "cell_type": "code",
   "execution_count": 634,
   "id": "1c8340a9",
   "metadata": {},
   "outputs": [
    {
     "data": {
      "text/plain": [
       "array([147.60419658])"
      ]
     },
     "execution_count": 634,
     "metadata": {},
     "output_type": "execute_result"
    }
   ],
   "source": [
    "reg.predict([[0.33,0.19]])"
   ]
  },
  {
   "cell_type": "code",
   "execution_count": 635,
   "id": "8db3ed09",
   "metadata": {},
   "outputs": [],
   "source": [
    "from sklearn import metrics as sm"
   ]
  },
  {
   "cell_type": "code",
   "execution_count": 636,
   "id": "bde02286",
   "metadata": {},
   "outputs": [
    {
     "name": "stdout",
     "output_type": "stream",
     "text": [
      "Regressor model performance:\n",
      "Mean absolute error(MAE) = 64.79\n",
      "Mean squared error(MSE) = 6893.9\n",
      "Median absolute error = 63.21\n",
      "Explain variance score = 0.94\n"
     ]
    }
   ],
   "source": [
    "# Model Performance\n",
    "print(\"Regressor model performance:\")\n",
    "print(\"Mean absolute error(MAE) =\", round(sm.mean_absolute_error(y_test, y_pred), 2))\n",
    "print(\"Mean squared error(MSE) =\", round(sm.mean_squared_error(y_test, y_pred), 2))\n",
    "print(\"Median absolute error =\", round(sm.median_absolute_error(y_test, y_pred), 2))\n",
    "print(\"Explain variance score =\", round(sm.explained_variance_score(y_test, y_pred), 2))"
   ]
  },
  {
   "cell_type": "markdown",
   "id": "4204c9c8",
   "metadata": {},
   "source": [
    "### Polynomial Regression Model Building"
   ]
  },
  {
   "cell_type": "code",
   "execution_count": 637,
   "id": "b2860ab7",
   "metadata": {},
   "outputs": [
    {
     "data": {
      "text/plain": [
       "LinearRegression()"
      ]
     },
     "execution_count": 637,
     "metadata": {},
     "output_type": "execute_result"
    }
   ],
   "source": [
    "from sklearn.preprocessing import PolynomialFeatures\n",
    "poly_reg = PolynomialFeatures(degree = 3)\n",
    "X_poly = poly_reg.fit_transform(X_train)\n",
    "lg1 = LinearRegression()\n",
    "lg1.fit(X_poly,y_train)"
   ]
  },
  {
   "cell_type": "code",
   "execution_count": 638,
   "id": "f9aa3d62",
   "metadata": {},
   "outputs": [
    {
     "data": {
      "text/plain": [
       "array([ 359.75976199,  131.68218142,  610.25321634,  149.21839813,\n",
       "        565.70476871,  237.32776414,  520.95984491,  484.01063981,\n",
       "        620.99264658,  631.87647431,  704.04970819, 1027.89797017,\n",
       "       1151.40826113, 1331.94059362,  461.42089638,  341.20348876,\n",
       "       1042.75661496,  170.30867277,  904.41563338,  635.41490761,\n",
       "        362.40482444,  204.12101516,  266.88411561,  831.11222225,\n",
       "       1205.59511066,   41.00053444, 1039.87078205,  595.13955572,\n",
       "        687.50938689,  965.50286138,  905.63644023,  787.83921136,\n",
       "        659.7042353 ])"
      ]
     },
     "execution_count": 638,
     "metadata": {},
     "output_type": "execute_result"
    }
   ],
   "source": [
    "y_pred1 = lg1.predict(poly_reg.fit_transform(X_test))\n",
    "y_pred1"
   ]
  },
  {
   "cell_type": "code",
   "execution_count": 639,
   "id": "c7b455df",
   "metadata": {},
   "outputs": [
    {
     "data": {
      "text/plain": [
       "[<matplotlib.lines.Line2D at 0x21cef913ca0>]"
      ]
     },
     "execution_count": 639,
     "metadata": {},
     "output_type": "execute_result"
    },
    {
     "data": {
      "image/png": "[encoded data removed]",
      "text/plain": [
       "<Figure size 432x288 with 1 Axes>"
      ]
     },
     "metadata": {
      "needs_background": "light"
     },
     "output_type": "display_data"
    }
   ],
   "source": [
    "plt.scatter(y_pred1,y_test,color='red')\n",
    "plt.plot(y_pred1,y_test,color='blue')"
   ]
  },
  {
   "cell_type": "markdown",
   "id": "6cb95a19",
   "metadata": {},
   "source": [
    "### Conclusion\n",
    "1. I have used Multiple Linear regression model and Polynomial Regression model. As I have plotted scatter-plot for these two models , it is seen that Polynomial regression model gives best regression line. \n",
    "2. Almost all the points are on the regression line,hence Polynomial regression model is best to decide \"price per square foot\" .\n",
    "\n",
    "3. Hence, for these DataSet ,Polynomial Regression model is more accurate than Multiple Linear regression model"
   ]
  },
  {
   "cell_type": "markdown",
   "id": "8795f8c9",
   "metadata": {},
   "source": [
    "# Problem Statement 2"
   ]
  },
  {
   "cell_type": "markdown",
   "id": "b23e89c0",
   "metadata": {},
   "source": [
    "### Importing Dataset"
   ]
  },
  {
   "cell_type": "code",
   "execution_count": 1,
   "id": "f4c8764d",
   "metadata": {},
   "outputs": [],
   "source": [
    "data = {'Id':[1,2,3,4,5,6,7,8,9,10,11,12,13,14],\n",
    "'Age':['<21','<21','21-35','>35','>35','>35','21-35','<21','<21','>35','<21','21-35','21-35','>35'],\n",
    "'Income':['High','High','High','Medium','Low','Low','Low','Medium','Low','Medium','Medium','Medium','High','Medium'],\n",
    "'Gender':['Male','Male','Male','Male','Female','Female','Female','Male','Female','Female','Female','Male','Female','Male'],\n",
    "'MaritalStatus':['Single','Married','Single','Single','Single','Married','Married','Single','Married','Single','Married','Married','Single','Married'],\n",
    "'Buys':['No','No','Yes','Yes','Yes','No','Yes','No','Yes','Yes','Yes','Yes','Yes','No']}"
   ]
  },
  {
   "cell_type": "code",
   "execution_count": 5,
   "id": "f851a889",
   "metadata": {},
   "outputs": [],
   "source": [
    "df2 = pd.DataFrame(data,columns=['Id','Age','Income','Gender','MaritalStatus','Buys'])"
   ]
  },
  {
   "cell_type": "code",
   "execution_count": 6,
   "id": "a64374a9",
   "metadata": {},
   "outputs": [],
   "source": [
    "df2 = df2.drop('Id', axis=1)"
   ]
  },
  {
   "cell_type": "code",
   "execution_count": 7,
   "id": "c6ac47e7",
   "metadata": {},
   "outputs": [
    {
     "data": {
      "text/html": [
       "<div>\n",
       "<style scoped>\n",
       "    .dataframe tbody tr th:only-of-type {\n",
       "        vertical-align: middle;\n",
       "    }\n",
       "\n",
       "    .dataframe tbody tr th {\n",
       "        vertical-align: top;\n",
       "    }\n",
       "\n",
       "    .dataframe thead th {\n",
       "        text-align: right;\n",
       "    }\n",
       "</style>\n",
       "<table border=\"1\" class=\"dataframe\">\n",
       "  <thead>\n",
       "    <tr style=\"text-align: right;\">\n",
       "      <th></th>\n",
       "      <th>Age</th>\n",
       "      <th>Income</th>\n",
       "      <th>Gender</th>\n",
       "      <th>MaritalStatus</th>\n",
       "      <th>Buys</th>\n",
       "    </tr>\n",
       "  </thead>\n",
       "  <tbody>\n",
       "    <tr>\n",
       "      <th>0</th>\n",
       "      <td>&lt;21</td>\n",
       "      <td>High</td>\n",
       "      <td>Male</td>\n",
       "      <td>Single</td>\n",
       "      <td>No</td>\n",
       "    </tr>\n",
       "    <tr>\n",
       "      <th>1</th>\n",
       "      <td>&lt;21</td>\n",
       "      <td>High</td>\n",
       "      <td>Male</td>\n",
       "      <td>Married</td>\n",
       "      <td>No</td>\n",
       "    </tr>\n",
       "    <tr>\n",
       "      <th>2</th>\n",
       "      <td>21-35</td>\n",
       "      <td>High</td>\n",
       "      <td>Male</td>\n",
       "      <td>Single</td>\n",
       "      <td>Yes</td>\n",
       "    </tr>\n",
       "    <tr>\n",
       "      <th>3</th>\n",
       "      <td>&gt;35</td>\n",
       "      <td>Medium</td>\n",
       "      <td>Male</td>\n",
       "      <td>Single</td>\n",
       "      <td>Yes</td>\n",
       "    </tr>\n",
       "    <tr>\n",
       "      <th>4</th>\n",
       "      <td>&gt;35</td>\n",
       "      <td>Low</td>\n",
       "      <td>Female</td>\n",
       "      <td>Single</td>\n",
       "      <td>Yes</td>\n",
       "    </tr>\n",
       "  </tbody>\n",
       "</table>\n",
       "</div>"
      ],
      "text/plain": [
       "     Age  Income  Gender MaritalStatus Buys\n",
       "0    <21    High    Male        Single   No\n",
       "1    <21    High    Male       Married   No\n",
       "2  21-35    High    Male        Single  Yes\n",
       "3    >35  Medium    Male        Single  Yes\n",
       "4    >35     Low  Female        Single  Yes"
      ]
     },
     "execution_count": 7,
     "metadata": {},
     "output_type": "execute_result"
    }
   ],
   "source": [
    "df2.head()"
   ]
  },
  {
   "cell_type": "code",
   "execution_count": 8,
   "id": "2baad8ef",
   "metadata": {},
   "outputs": [
    {
     "name": "stdout",
     "output_type": "stream",
     "text": [
      "<class 'pandas.core.frame.DataFrame'>\n",
      "RangeIndex: 14 entries, 0 to 13\n",
      "Data columns (total 5 columns):\n",
      " #   Column         Non-Null Count  Dtype \n",
      "---  ------         --------------  ----- \n",
      " 0   Age            14 non-null     object\n",
      " 1   Income         14 non-null     object\n",
      " 2   Gender         14 non-null     object\n",
      " 3   MaritalStatus  14 non-null     object\n",
      " 4   Buys           14 non-null     object\n",
      "dtypes: object(5)\n",
      "memory usage: 688.0+ bytes\n"
     ]
    }
   ],
   "source": [
    "df2.info()"
   ]
  },
  {
   "cell_type": "code",
   "execution_count": 9,
   "id": "10254a1d",
   "metadata": {},
   "outputs": [
    {
     "data": {
      "text/plain": [
       "(14, 5)"
      ]
     },
     "execution_count": 9,
     "metadata": {},
     "output_type": "execute_result"
    }
   ],
   "source": [
    "df2.shape"
   ]
  },
  {
   "cell_type": "code",
   "execution_count": 10,
   "id": "fa060c2b",
   "metadata": {},
   "outputs": [
    {
     "data": {
      "text/html": [
       "<div>\n",
       "<style scoped>\n",
       "    .dataframe tbody tr th:only-of-type {\n",
       "        vertical-align: middle;\n",
       "    }\n",
       "\n",
       "    .dataframe tbody tr th {\n",
       "        vertical-align: top;\n",
       "    }\n",
       "\n",
       "    .dataframe thead th {\n",
       "        text-align: right;\n",
       "    }\n",
       "</style>\n",
       "<table border=\"1\" class=\"dataframe\">\n",
       "  <thead>\n",
       "    <tr style=\"text-align: right;\">\n",
       "      <th></th>\n",
       "      <th>Age</th>\n",
       "      <th>Income</th>\n",
       "      <th>Gender</th>\n",
       "      <th>MaritalStatus</th>\n",
       "      <th>Buys</th>\n",
       "    </tr>\n",
       "  </thead>\n",
       "  <tbody>\n",
       "    <tr>\n",
       "      <th>count</th>\n",
       "      <td>14</td>\n",
       "      <td>14</td>\n",
       "      <td>14</td>\n",
       "      <td>14</td>\n",
       "      <td>14</td>\n",
       "    </tr>\n",
       "    <tr>\n",
       "      <th>unique</th>\n",
       "      <td>3</td>\n",
       "      <td>3</td>\n",
       "      <td>2</td>\n",
       "      <td>2</td>\n",
       "      <td>2</td>\n",
       "    </tr>\n",
       "    <tr>\n",
       "      <th>top</th>\n",
       "      <td>&lt;21</td>\n",
       "      <td>Medium</td>\n",
       "      <td>Male</td>\n",
       "      <td>Single</td>\n",
       "      <td>Yes</td>\n",
       "    </tr>\n",
       "    <tr>\n",
       "      <th>freq</th>\n",
       "      <td>5</td>\n",
       "      <td>6</td>\n",
       "      <td>7</td>\n",
       "      <td>7</td>\n",
       "      <td>9</td>\n",
       "    </tr>\n",
       "  </tbody>\n",
       "</table>\n",
       "</div>"
      ],
      "text/plain": [
       "        Age  Income Gender MaritalStatus Buys\n",
       "count    14      14     14            14   14\n",
       "unique    3       3      2             2    2\n",
       "top     <21  Medium   Male        Single  Yes\n",
       "freq      5       6      7             7    9"
      ]
     },
     "execution_count": 10,
     "metadata": {},
     "output_type": "execute_result"
    }
   ],
   "source": [
    "df2.describe()"
   ]
  },
  {
   "cell_type": "code",
   "execution_count": 11,
   "id": "cfe1a18a",
   "metadata": {},
   "outputs": [
    {
     "data": {
      "text/plain": [
       "Yes    9\n",
       "No     5\n",
       "Name: Buys, dtype: int64"
      ]
     },
     "execution_count": 11,
     "metadata": {},
     "output_type": "execute_result"
    }
   ],
   "source": [
    "df2[\"Buys\"].value_counts()"
   ]
  },
  {
   "cell_type": "code",
   "execution_count": 648,
   "id": "3bf78c08",
   "metadata": {},
   "outputs": [
    {
     "data": {
      "text/plain": [
       "Age              0\n",
       "Income           0\n",
       "Gender           0\n",
       "MaritalStatus    0\n",
       "Buys             0\n",
       "dtype: int64"
      ]
     },
     "execution_count": 648,
     "metadata": {},
     "output_type": "execute_result"
    }
   ],
   "source": [
    "df2.isnull().sum()"
   ]
  },
  {
   "cell_type": "code",
   "execution_count": 649,
   "id": "d085cdad",
   "metadata": {},
   "outputs": [
    {
     "data": {
      "text/html": [
       "<div>\n",
       "<style scoped>\n",
       "    .dataframe tbody tr th:only-of-type {\n",
       "        vertical-align: middle;\n",
       "    }\n",
       "\n",
       "    .dataframe tbody tr th {\n",
       "        vertical-align: top;\n",
       "    }\n",
       "\n",
       "    .dataframe thead th {\n",
       "        text-align: right;\n",
       "    }\n",
       "</style>\n",
       "<table border=\"1\" class=\"dataframe\">\n",
       "  <thead>\n",
       "    <tr style=\"text-align: right;\">\n",
       "      <th></th>\n",
       "      <th>Age</th>\n",
       "      <th>Income</th>\n",
       "      <th>Gender</th>\n",
       "      <th>MaritalStatus</th>\n",
       "      <th>Buys</th>\n",
       "    </tr>\n",
       "  </thead>\n",
       "  <tbody>\n",
       "    <tr>\n",
       "      <th>0</th>\n",
       "      <td>1</td>\n",
       "      <td>0</td>\n",
       "      <td>1</td>\n",
       "      <td>1</td>\n",
       "      <td>0</td>\n",
       "    </tr>\n",
       "    <tr>\n",
       "      <th>1</th>\n",
       "      <td>1</td>\n",
       "      <td>0</td>\n",
       "      <td>1</td>\n",
       "      <td>0</td>\n",
       "      <td>0</td>\n",
       "    </tr>\n",
       "    <tr>\n",
       "      <th>2</th>\n",
       "      <td>0</td>\n",
       "      <td>0</td>\n",
       "      <td>1</td>\n",
       "      <td>1</td>\n",
       "      <td>1</td>\n",
       "    </tr>\n",
       "    <tr>\n",
       "      <th>3</th>\n",
       "      <td>2</td>\n",
       "      <td>2</td>\n",
       "      <td>1</td>\n",
       "      <td>1</td>\n",
       "      <td>1</td>\n",
       "    </tr>\n",
       "    <tr>\n",
       "      <th>4</th>\n",
       "      <td>2</td>\n",
       "      <td>1</td>\n",
       "      <td>0</td>\n",
       "      <td>1</td>\n",
       "      <td>1</td>\n",
       "    </tr>\n",
       "    <tr>\n",
       "      <th>5</th>\n",
       "      <td>2</td>\n",
       "      <td>1</td>\n",
       "      <td>0</td>\n",
       "      <td>0</td>\n",
       "      <td>0</td>\n",
       "    </tr>\n",
       "    <tr>\n",
       "      <th>6</th>\n",
       "      <td>0</td>\n",
       "      <td>1</td>\n",
       "      <td>0</td>\n",
       "      <td>0</td>\n",
       "      <td>1</td>\n",
       "    </tr>\n",
       "    <tr>\n",
       "      <th>7</th>\n",
       "      <td>1</td>\n",
       "      <td>2</td>\n",
       "      <td>1</td>\n",
       "      <td>1</td>\n",
       "      <td>0</td>\n",
       "    </tr>\n",
       "    <tr>\n",
       "      <th>8</th>\n",
       "      <td>1</td>\n",
       "      <td>1</td>\n",
       "      <td>0</td>\n",
       "      <td>0</td>\n",
       "      <td>1</td>\n",
       "    </tr>\n",
       "    <tr>\n",
       "      <th>9</th>\n",
       "      <td>2</td>\n",
       "      <td>2</td>\n",
       "      <td>0</td>\n",
       "      <td>1</td>\n",
       "      <td>1</td>\n",
       "    </tr>\n",
       "    <tr>\n",
       "      <th>10</th>\n",
       "      <td>1</td>\n",
       "      <td>2</td>\n",
       "      <td>0</td>\n",
       "      <td>0</td>\n",
       "      <td>1</td>\n",
       "    </tr>\n",
       "    <tr>\n",
       "      <th>11</th>\n",
       "      <td>0</td>\n",
       "      <td>2</td>\n",
       "      <td>1</td>\n",
       "      <td>0</td>\n",
       "      <td>1</td>\n",
       "    </tr>\n",
       "    <tr>\n",
       "      <th>12</th>\n",
       "      <td>0</td>\n",
       "      <td>0</td>\n",
       "      <td>0</td>\n",
       "      <td>1</td>\n",
       "      <td>1</td>\n",
       "    </tr>\n",
       "    <tr>\n",
       "      <th>13</th>\n",
       "      <td>2</td>\n",
       "      <td>2</td>\n",
       "      <td>1</td>\n",
       "      <td>0</td>\n",
       "      <td>0</td>\n",
       "    </tr>\n",
       "  </tbody>\n",
       "</table>\n",
       "</div>"
      ],
      "text/plain": [
       "    Age  Income  Gender  MaritalStatus  Buys\n",
       "0     1       0       1              1     0\n",
       "1     1       0       1              0     0\n",
       "2     0       0       1              1     1\n",
       "3     2       2       1              1     1\n",
       "4     2       1       0              1     1\n",
       "5     2       1       0              0     0\n",
       "6     0       1       0              0     1\n",
       "7     1       2       1              1     0\n",
       "8     1       1       0              0     1\n",
       "9     2       2       0              1     1\n",
       "10    1       2       0              0     1\n",
       "11    0       2       1              0     1\n",
       "12    0       0       0              1     1\n",
       "13    2       2       1              0     0"
      ]
     },
     "execution_count": 649,
     "metadata": {},
     "output_type": "execute_result"
    }
   ],
   "source": [
    "# Preprocessing\n",
    "\n",
    "from sklearn.preprocessing import LabelEncoder\n",
    "le = LabelEncoder()\n",
    "df2 = df2.apply(le.fit_transform)\n",
    "df2"
   ]
  },
  {
   "cell_type": "code",
   "execution_count": 650,
   "id": "b5dcf041",
   "metadata": {},
   "outputs": [],
   "source": [
    "#Independent and Dependent variables\n",
    "\n",
    "X = df2.iloc[:,:-1].values\n",
    "\n",
    "y = df2.iloc[:,-1].values"
   ]
  },
  {
   "cell_type": "code",
   "execution_count": 651,
   "id": "9688b255",
   "metadata": {},
   "outputs": [],
   "source": [
    "#Train and Test Data\n",
    "\n",
    "from sklearn.model_selection import train_test_split\n",
    "X_train , X_test , y_train , y_test = train_test_split(X,y,train_size=0.3,random_state=0)"
   ]
  },
  {
   "cell_type": "code",
   "execution_count": 652,
   "id": "6f5bb2a2",
   "metadata": {},
   "outputs": [
    {
     "data": {
      "text/plain": [
       "((4, 4), (10, 4), (4,), (10,))"
      ]
     },
     "execution_count": 652,
     "metadata": {},
     "output_type": "execute_result"
    }
   ],
   "source": [
    "X_train.shape , X_test.shape , y_train.shape , y_test.shape"
   ]
  },
  {
   "cell_type": "markdown",
   "id": "a0f0ca75",
   "metadata": {},
   "source": [
    "### Descision Tree Model Building"
   ]
  },
  {
   "cell_type": "code",
   "execution_count": 653,
   "id": "e733c08d",
   "metadata": {},
   "outputs": [
    {
     "data": {
      "text/plain": [
       "DecisionTreeClassifier(criterion='entropy', random_state=0)"
      ]
     },
     "execution_count": 653,
     "metadata": {},
     "output_type": "execute_result"
    }
   ],
   "source": [
    "#Model Building\n",
    "\n",
    "from sklearn.tree import DecisionTreeClassifier\n",
    "classifier = DecisionTreeClassifier(criterion='entropy' , random_state=0)\n",
    "classifier.fit(X_train,y_train)"
   ]
  },
  {
   "cell_type": "code",
   "execution_count": 654,
   "id": "8ec3e60a",
   "metadata": {},
   "outputs": [
    {
     "data": {
      "text/plain": [
       "array([0, 1, 0, 1, 1, 1, 1, 0, 1, 1])"
      ]
     },
     "execution_count": 654,
     "metadata": {},
     "output_type": "execute_result"
    }
   ],
   "source": [
    "y_pred = classifier.predict(X_test)\n",
    "y_pred"
   ]
  },
  {
   "cell_type": "code",
   "execution_count": 655,
   "id": "8636b0e8",
   "metadata": {},
   "outputs": [
    {
     "data": {
      "text/plain": [
       "array([[1, 2],\n",
       "       [2, 5]], dtype=int64)"
      ]
     },
     "execution_count": 655,
     "metadata": {},
     "output_type": "execute_result"
    }
   ],
   "source": [
    "from sklearn.metrics import confusion_matrix , accuracy_score , classification_report\n",
    "\n",
    "#Confusion Matrix\n",
    "cm = confusion_matrix(y_test , y_pred)\n",
    "cm"
   ]
  },
  {
   "cell_type": "code",
   "execution_count": 656,
   "id": "864736b1",
   "metadata": {},
   "outputs": [
    {
     "name": "stdout",
     "output_type": "stream",
     "text": [
      "              precision    recall  f1-score   support\n",
      "\n",
      "           0       0.33      0.33      0.33         3\n",
      "           1       0.71      0.71      0.71         7\n",
      "\n",
      "    accuracy                           0.60        10\n",
      "   macro avg       0.52      0.52      0.52        10\n",
      "weighted avg       0.60      0.60      0.60        10\n",
      "\n"
     ]
    }
   ],
   "source": [
    "print(classification_report(y_test , y_pred))"
   ]
  },
  {
   "cell_type": "code",
   "execution_count": 657,
   "id": "1583f7ce",
   "metadata": {},
   "outputs": [
    {
     "data": {
      "text/plain": [
       "array([1])"
      ]
     },
     "execution_count": 657,
     "metadata": {},
     "output_type": "execute_result"
    }
   ],
   "source": [
    "classifier.predict([[0,0,1,1]])"
   ]
  },
  {
   "cell_type": "code",
   "execution_count": 658,
   "id": "87284d94",
   "metadata": {},
   "outputs": [
    {
     "data": {
      "text/plain": [
       "array([0])"
      ]
     },
     "execution_count": 658,
     "metadata": {},
     "output_type": "execute_result"
    }
   ],
   "source": [
    "classifier.predict([[1,1,0,0]])"
   ]
  },
  {
   "cell_type": "markdown",
   "id": "1bd01346",
   "metadata": {},
   "source": [
    "### Conclusion\n",
    "1. Root Node for the decision tree is 'Age'\n",
    "\n",
    "2. Predicted class for input [Age>21 , Income = Low , Gender = Female , Marital Status = Married] i. e. [1,1,0,0] is No[0]\n",
    "\n",
    "3. The accuracy for this model is 60%."
   ]
  }
 ],
 "metadata": {
  "kernelspec": {
   "display_name": "Python 3 (ipykernel)",
   "language": "python",
   "name": "python3"
  },
  "language_info": {
   "codemirror_mode": {
    "name": "ipython",
    "version": 3
   },
   "file_extension": ".py",
   "mimetype": "text/x-python",
   "name": "python",
   "nbconvert_exporter": "python",
   "pygments_lexer": "ipython3",
   "version": "3.9.13"
  }
 },
 "nbformat": 4,
 "nbformat_minor": 5
}
